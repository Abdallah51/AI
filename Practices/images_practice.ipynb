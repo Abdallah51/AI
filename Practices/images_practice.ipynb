{
  "nbformat": 4,
  "nbformat_minor": 0,
  "metadata": {
    "colab": {
      "provenance": []
    },
    "kernelspec": {
      "name": "python3",
      "display_name": "Python 3"
    },
    "language_info": {
      "name": "python"
    }
  },
  "cells": [
    {
      "cell_type": "code",
      "source": [
        "from skimage.io import imread, imsave\n",
        "from skimage.transform import resize\n",
        "import numpy as np\n"
      ],
      "metadata": {
        "id": "HWBAMm6-mb9b"
      },
      "execution_count": 34,
      "outputs": []
    },
    {
      "cell_type": "code",
      "source": [
        "img = imread('/content/working_with_image_bmw.png')\n",
        "print(img.dtype,img.shape)"
      ],
      "metadata": {
        "id": "VhKPJdUjmlHE",
        "colab": {
          "base_uri": "https://localhost:8080/"
        },
        "outputId": "cd112389-f04b-46e0-8072-6ad02a2b7d6b"
      },
      "execution_count": 23,
      "outputs": [
        {
          "output_type": "stream",
          "name": "stdout",
          "text": [
            "uint8 (168, 299, 3)\n"
          ]
        }
      ]
    },
    {
      "cell_type": "code",
      "source": [
        "resized_image  = resize(img,(100,100))"
      ],
      "metadata": {
        "id": "FZOhzXqIpDoL"
      },
      "execution_count": 30,
      "outputs": []
    },
    {
      "cell_type": "code",
      "source": [
        "print(resized_image .dtype,resized_image .shape)"
      ],
      "metadata": {
        "colab": {
          "base_uri": "https://localhost:8080/"
        },
        "id": "iAIXEj9XpQMJ",
        "outputId": "b8f008c3-fb20-4494-9a64-2abe6446d3a6"
      },
      "execution_count": 33,
      "outputs": [
        {
          "output_type": "stream",
          "name": "stdout",
          "text": [
            "float64 (100, 100, 3)\n"
          ]
        }
      ]
    },
    {
      "cell_type": "markdown",
      "source": [],
      "metadata": {
        "id": "vaiXSJ7CqXFP"
      }
    },
    {
      "cell_type": "code",
      "source": [
        "# Convert the array to uint8\n",
        "resized_image_uint8 = (resized_image * 255).astype(np.uint8)  # Scale values to 0-255 if needed\n"
      ],
      "metadata": {
        "id": "SQ_DIGceqwgI"
      },
      "execution_count": 35,
      "outputs": []
    },
    {
      "cell_type": "code",
      "source": [
        "imsave('/content/resized_image_pmw.png',resized_image_uint8)"
      ],
      "metadata": {
        "id": "UbhAu9PbpaBZ"
      },
      "execution_count": 36,
      "outputs": []
    },
    {
      "cell_type": "code",
      "source": [
        "print(resized_image_uint8 .dtype,resized_image_uint8.shape)"
      ],
      "metadata": {
        "colab": {
          "base_uri": "https://localhost:8080/"
        },
        "id": "tl562ETDpmQN",
        "outputId": "0bfc5b90-300d-46df-9334-0364a257ca1f"
      },
      "execution_count": 37,
      "outputs": [
        {
          "output_type": "stream",
          "name": "stdout",
          "text": [
            "uint8 (100, 100, 3)\n"
          ]
        }
      ]
    },
    {
      "cell_type": "code",
      "source": [
        "#image recoloring\n",
        "#any image (r,g,b)\n",
        "#our example\n",
        "img_colored = img *[1,0.9,0.8]\n",
        "img_colored = (img_colored * 255).astype(np.uint8)\n",
        "imsave('/content/colored_pmw.png',img_colored)"
      ],
      "metadata": {
        "id": "oGJOsLzOrZPf"
      },
      "execution_count": 40,
      "outputs": []
    },
    {
      "cell_type": "code",
      "source": [],
      "metadata": {
        "id": "kfDvnnG4rfA4"
      },
      "execution_count": null,
      "outputs": []
    }
  ]
}